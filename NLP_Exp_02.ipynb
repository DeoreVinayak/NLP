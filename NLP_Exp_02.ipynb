{
  "nbformat": 4,
  "nbformat_minor": 0,
  "metadata": {
    "colab": {
      "provenance": []
    },
    "kernelspec": {
      "name": "python3",
      "display_name": "Python 3"
    },
    "language_info": {
      "name": "python"
    }
  },
  "cells": [
    {
      "cell_type": "markdown",
      "source": [
        "\n",
        "**Library required**"
      ],
      "metadata": {
        "id": "QLO6OlNCIKcl"
      }
    },
    {
      "cell_type": "code",
      "execution_count": 1,
      "metadata": {
        "colab": {
          "base_uri": "https://localhost:8080/"
        },
        "id": "a6PD3JFzEFTL",
        "outputId": "a4e6dbe2-8cac-45df-c7b1-a5c62d742ab8"
      },
      "outputs": [
        {
          "output_type": "stream",
          "name": "stdout",
          "text": [
            "Requirement already satisfied: nltk in /usr/local/lib/python3.10/dist-packages (3.8.1)\n",
            "Requirement already satisfied: click in /usr/local/lib/python3.10/dist-packages (from nltk) (8.1.7)\n",
            "Requirement already satisfied: joblib in /usr/local/lib/python3.10/dist-packages (from nltk) (1.4.2)\n",
            "Requirement already satisfied: regex>=2021.8.3 in /usr/local/lib/python3.10/dist-packages (from nltk) (2024.5.15)\n",
            "Requirement already satisfied: tqdm in /usr/local/lib/python3.10/dist-packages (from nltk) (4.66.4)\n"
          ]
        }
      ],
      "source": [
        "!pip install nltk"
      ]
    },
    {
      "cell_type": "markdown",
      "source": [
        "\n",
        "**Text **"
      ],
      "metadata": {
        "id": "uFeRWF2_IUPx"
      }
    },
    {
      "cell_type": "code",
      "source": [
        "text = \"NGC 4889 is a massive, early-type galaxy located in the Coma Cluster, approximately 300 million light-years from Earth, and is notable for hosting a supermassive black hole at its core that is estimated to have a mass of over 21 billion solar masses.\""
      ],
      "metadata": {
        "id": "de-iU1K2E16P"
      },
      "execution_count": 2,
      "outputs": []
    },
    {
      "cell_type": "code",
      "source": [
        "text"
      ],
      "metadata": {
        "colab": {
          "base_uri": "https://localhost:8080/",
          "height": 70
        },
        "id": "2eDfSB3AE4-W",
        "outputId": "34e814e2-371a-49c7-83c0-e6f070fddd7d"
      },
      "execution_count": 3,
      "outputs": [
        {
          "output_type": "execute_result",
          "data": {
            "text/plain": [
              "'NGC 4889 is a massive, early-type galaxy located in the Coma Cluster, approximately 300 million light-years from Earth, and is notable for hosting a supermassive black hole at its core that is estimated to have a mass of over 21 billion solar masses.'"
            ],
            "application/vnd.google.colaboratory.intrinsic+json": {
              "type": "string"
            }
          },
          "metadata": {},
          "execution_count": 3
        }
      ]
    },
    {
      "cell_type": "markdown",
      "source": [
        "**Stopwords**"
      ],
      "metadata": {
        "id": "orbwXaRqIbi3"
      }
    },
    {
      "cell_type": "code",
      "source": [
        "import nltk\n",
        "nltk.download('punkt')"
      ],
      "metadata": {
        "colab": {
          "base_uri": "https://localhost:8080/"
        },
        "id": "K04gF7x5FOVH",
        "outputId": "cb6b6e5b-3665-4ec3-9401-6641be4039f7"
      },
      "execution_count": 6,
      "outputs": [
        {
          "output_type": "stream",
          "name": "stderr",
          "text": [
            "[nltk_data] Downloading package punkt to /root/nltk_data...\n",
            "[nltk_data]   Unzipping tokenizers/punkt.zip.\n"
          ]
        },
        {
          "output_type": "execute_result",
          "data": {
            "text/plain": [
              "True"
            ]
          },
          "metadata": {},
          "execution_count": 6
        }
      ]
    },
    {
      "cell_type": "code",
      "source": [
        "nltk.download('stopwords')"
      ],
      "metadata": {
        "colab": {
          "base_uri": "https://localhost:8080/"
        },
        "id": "qBmT5vz6FoHt",
        "outputId": "1930a2d0-671d-41a9-8416-0332987e2006"
      },
      "execution_count": 12,
      "outputs": [
        {
          "output_type": "stream",
          "name": "stderr",
          "text": [
            "[nltk_data] Downloading package stopwords to /root/nltk_data...\n",
            "[nltk_data]   Unzipping corpora/stopwords.zip.\n"
          ]
        },
        {
          "output_type": "execute_result",
          "data": {
            "text/plain": [
              "True"
            ]
          },
          "metadata": {},
          "execution_count": 12
        }
      ]
    },
    {
      "cell_type": "code",
      "source": [
        "from nltk.corpus import stopwords"
      ],
      "metadata": {
        "id": "4dyafxp1FEPO"
      },
      "execution_count": 13,
      "outputs": []
    },
    {
      "cell_type": "code",
      "source": [
        "stop_words = stopwords.words('english')"
      ],
      "metadata": {
        "id": "I7q-te1wFEXm"
      },
      "execution_count": 14,
      "outputs": []
    },
    {
      "cell_type": "code",
      "source": [
        "from nltk.tokenize import word_tokenize\n",
        "words = word_tokenize(text)"
      ],
      "metadata": {
        "id": "I-59oj_0FhcH"
      },
      "execution_count": 15,
      "outputs": []
    },
    {
      "cell_type": "markdown",
      "source": [
        "**Applying stop words**"
      ],
      "metadata": {
        "id": "mT7oxtkgIf1P"
      }
    },
    {
      "cell_type": "code",
      "source": [
        "holder = list()\n",
        "for w in words:\n",
        "    if w not in set(stop_words):\n",
        "        holder.append(w)"
      ],
      "metadata": {
        "id": "1DWyZvlWFILd"
      },
      "execution_count": 16,
      "outputs": []
    },
    {
      "cell_type": "code",
      "source": [
        "holder"
      ],
      "metadata": {
        "colab": {
          "base_uri": "https://localhost:8080/"
        },
        "id": "Euv4F7ZtGKj-",
        "outputId": "17f718be-f6b7-4473-8da8-24d34c110abd"
      },
      "execution_count": 17,
      "outputs": [
        {
          "output_type": "execute_result",
          "data": {
            "text/plain": [
              "['NGC',\n",
              " '4889',\n",
              " 'massive',\n",
              " ',',\n",
              " 'early-type',\n",
              " 'galaxy',\n",
              " 'located',\n",
              " 'Coma',\n",
              " 'Cluster',\n",
              " ',',\n",
              " 'approximately',\n",
              " '300',\n",
              " 'million',\n",
              " 'light-years',\n",
              " 'Earth',\n",
              " ',',\n",
              " 'notable',\n",
              " 'hosting',\n",
              " 'supermassive',\n",
              " 'black',\n",
              " 'hole',\n",
              " 'core',\n",
              " 'estimated',\n",
              " 'mass',\n",
              " '21',\n",
              " 'billion',\n",
              " 'solar',\n",
              " 'masses',\n",
              " '.']"
            ]
          },
          "metadata": {},
          "execution_count": 17
        }
      ]
    },
    {
      "cell_type": "markdown",
      "source": [
        "**List Comprehension for stop words**"
      ],
      "metadata": {
        "id": "znoXMizgIpCf"
      }
    },
    {
      "cell_type": "code",
      "source": [
        "holder = [w for w in words if w not in set(stop_words)]\n",
        "print(holder)"
      ],
      "metadata": {
        "colab": {
          "base_uri": "https://localhost:8080/"
        },
        "id": "Z1ORhpoPGMON",
        "outputId": "8a15673d-2718-4620-f467-dbf51f196ee8"
      },
      "execution_count": 18,
      "outputs": [
        {
          "output_type": "stream",
          "name": "stdout",
          "text": [
            "['NGC', '4889', 'massive', ',', 'early-type', 'galaxy', 'located', 'Coma', 'Cluster', ',', 'approximately', '300', 'million', 'light-years', 'Earth', ',', 'notable', 'hosting', 'supermassive', 'black', 'hole', 'core', 'estimated', 'mass', '21', 'billion', 'solar', 'masses', '.']\n"
          ]
        }
      ]
    },
    {
      "cell_type": "markdown",
      "source": [
        "**Stemming**"
      ],
      "metadata": {
        "id": "zoy23qa3IuQn"
      }
    },
    {
      "cell_type": "code",
      "source": [
        "from nltk.stem import PorterStemmer, SnowballStemmer, LancasterStemmer"
      ],
      "metadata": {
        "id": "n9zpKRn4GR-1"
      },
      "execution_count": 19,
      "outputs": []
    },
    {
      "cell_type": "code",
      "source": [
        "porter = PorterStemmer()\n",
        "snow = SnowballStemmer(language = 'english')\n",
        "lancaster = LancasterStemmer()"
      ],
      "metadata": {
        "id": "IlxP18rMGUdl"
      },
      "execution_count": 20,
      "outputs": []
    },
    {
      "cell_type": "code",
      "source": [
        "words = ['play', 'plays', 'played', 'playing', 'player']"
      ],
      "metadata": {
        "id": "nS7hoKtVGXt9"
      },
      "execution_count": 21,
      "outputs": []
    },
    {
      "cell_type": "markdown",
      "source": [
        "**Porter Stemmer**"
      ],
      "metadata": {
        "id": "nsA6KltAIyxm"
      }
    },
    {
      "cell_type": "code",
      "source": [
        "porter_stemmed = list()\n",
        "for w in words:\n",
        "    stemmed_words = porter.stem(w)\n",
        "    porter_stemmed.append(stemmed_words)"
      ],
      "metadata": {
        "id": "Y9ZMC6uJGj_k"
      },
      "execution_count": 22,
      "outputs": []
    },
    {
      "cell_type": "code",
      "source": [
        "porter_stemmed"
      ],
      "metadata": {
        "colab": {
          "base_uri": "https://localhost:8080/"
        },
        "id": "e8DqZSGuGpPW",
        "outputId": "5a37e19a-ae73-446e-e20c-be196773ae41"
      },
      "execution_count": 23,
      "outputs": [
        {
          "output_type": "execute_result",
          "data": {
            "text/plain": [
              "['play', 'play', 'play', 'play', 'player']"
            ]
          },
          "metadata": {},
          "execution_count": 23
        }
      ]
    },
    {
      "cell_type": "markdown",
      "source": [
        "\n",
        "**Porter Stemmer List Comprehension**"
      ],
      "metadata": {
        "id": "ZDTyM25sI2Q9"
      }
    },
    {
      "cell_type": "code",
      "source": [
        "porter_stemmed = [porter.stem(x) for x in words]\n",
        "print (porter_stemmed)"
      ],
      "metadata": {
        "colab": {
          "base_uri": "https://localhost:8080/"
        },
        "id": "l7nqHmTkJI3f",
        "outputId": "a89c9002-7c45-4d8e-bff3-6c529c579438"
      },
      "execution_count": 40,
      "outputs": [
        {
          "output_type": "stream",
          "name": "stdout",
          "text": [
            "['play', 'play', 'play', 'play', 'player']\n"
          ]
        }
      ]
    },
    {
      "cell_type": "markdown",
      "source": [
        "\n",
        "**Snowball Stemmer**"
      ],
      "metadata": {
        "id": "5P49Tr_eJRA3"
      }
    },
    {
      "cell_type": "code",
      "source": [
        "snow_stemmed = list()\n",
        "for w in words:\n",
        "    stemmed_words = snow.stem(w)\n",
        "    snow_stemmed.append(stemmed_words)"
      ],
      "metadata": {
        "id": "LDIuHkt7GqY_"
      },
      "execution_count": 26,
      "outputs": []
    },
    {
      "cell_type": "code",
      "source": [
        "snow_stemmed"
      ],
      "metadata": {
        "colab": {
          "base_uri": "https://localhost:8080/"
        },
        "id": "2EnatNHbG4jo",
        "outputId": "cf59aff0-3fc8-4fa0-a85b-ccc69f76dbb5"
      },
      "execution_count": 27,
      "outputs": [
        {
          "output_type": "execute_result",
          "data": {
            "text/plain": [
              "['play', 'play', 'play', 'play', 'player']"
            ]
          },
          "metadata": {},
          "execution_count": 27
        }
      ]
    },
    {
      "cell_type": "markdown",
      "source": [
        "\n",
        "**Snowball Stemmer List Comprehension**"
      ],
      "metadata": {
        "id": "RZ_lKyTMI58d"
      }
    },
    {
      "cell_type": "code",
      "source": [
        "snow_stemmed = [snow.stem(x) for x in words]\n",
        "print (snow_stemmed)"
      ],
      "metadata": {
        "colab": {
          "base_uri": "https://localhost:8080/"
        },
        "id": "RmsEBu0dGwhu",
        "outputId": "7b9034eb-d134-495d-e956-e4ad8405851c"
      },
      "execution_count": 28,
      "outputs": [
        {
          "output_type": "stream",
          "name": "stdout",
          "text": [
            "['play', 'play', 'play', 'play', 'player']\n"
          ]
        }
      ]
    },
    {
      "cell_type": "markdown",
      "source": [
        "**Lancaster Stemmer**"
      ],
      "metadata": {
        "id": "k5h7KsUiJhzX"
      }
    },
    {
      "cell_type": "code",
      "source": [
        "lancaster_stemmed = list()\n",
        "for w in words:\n",
        "    stemmed_words = lancaster.stem(w)\n",
        "    lancaster_stemmed.append(stemmed_words)"
      ],
      "metadata": {
        "id": "RXCHi_mgG72n"
      },
      "execution_count": 29,
      "outputs": []
    },
    {
      "cell_type": "code",
      "source": [
        "\n",
        "lancaster_stemmed"
      ],
      "metadata": {
        "colab": {
          "base_uri": "https://localhost:8080/"
        },
        "id": "qC8B5QChHBTH",
        "outputId": "9aded78e-07c0-437a-b180-19ccccb21c19"
      },
      "execution_count": 30,
      "outputs": [
        {
          "output_type": "execute_result",
          "data": {
            "text/plain": [
              "['play', 'play', 'play', 'play', 'play']"
            ]
          },
          "metadata": {},
          "execution_count": 30
        }
      ]
    },
    {
      "cell_type": "markdown",
      "source": [
        "\n",
        "**Lancaster Stemmer List Comprehension**"
      ],
      "metadata": {
        "id": "WL9TJYdFJk1e"
      }
    },
    {
      "cell_type": "code",
      "source": [
        "lancaster_stemmed = [lancaster.stem(x) for x in words]\n",
        "print (lancaster_stemmed)"
      ],
      "metadata": {
        "colab": {
          "base_uri": "https://localhost:8080/"
        },
        "id": "UtzI9j-KHDEu",
        "outputId": "66db71a4-3494-473d-8cd0-1edde43aca57"
      },
      "execution_count": 31,
      "outputs": [
        {
          "output_type": "stream",
          "name": "stdout",
          "text": [
            "['play', 'play', 'play', 'play', 'play']\n",
            "['play', 'play', 'play', 'play', 'play']\n"
          ]
        }
      ]
    },
    {
      "cell_type": "markdown",
      "source": [
        "**Lemmatization : This has a more expansive vocabulary than Stemming**"
      ],
      "metadata": {
        "id": "teKs7nGIJuTX"
      }
    },
    {
      "cell_type": "code",
      "source": [
        "nltk.download('wordnet')"
      ],
      "metadata": {
        "colab": {
          "base_uri": "https://localhost:8080/"
        },
        "id": "cgR-D0vCHPwX",
        "outputId": "35dcc74b-eb17-49b2-a078-47cb9a5c68bb"
      },
      "execution_count": 35,
      "outputs": [
        {
          "output_type": "stream",
          "name": "stderr",
          "text": [
            "[nltk_data] Downloading package wordnet to /root/nltk_data...\n"
          ]
        },
        {
          "output_type": "execute_result",
          "data": {
            "text/plain": [
              "True"
            ]
          },
          "metadata": {},
          "execution_count": 35
        }
      ]
    },
    {
      "cell_type": "code",
      "source": [
        "from nltk.stem import WordNetLemmatizer\n",
        "wordnet = WordNetLemmatizer()"
      ],
      "metadata": {
        "id": "2iW4xuAhHF2v"
      },
      "execution_count": 36,
      "outputs": []
    },
    {
      "cell_type": "code",
      "source": [
        "lemmatized = [wordnet.lemmatize(x) for x in words]"
      ],
      "metadata": {
        "id": "8bI6tljxH4zU"
      },
      "execution_count": 38,
      "outputs": []
    },
    {
      "cell_type": "code",
      "source": [
        "lemmatized"
      ],
      "metadata": {
        "colab": {
          "base_uri": "https://localhost:8080/"
        },
        "id": "SM852OYgHUsf",
        "outputId": "a810ffd2-32bd-4824-f608-8c1e0b82c8b3"
      },
      "execution_count": 39,
      "outputs": [
        {
          "output_type": "execute_result",
          "data": {
            "text/plain": [
              "['play', 'play', 'played', 'playing', 'player']"
            ]
          },
          "metadata": {},
          "execution_count": 39
        }
      ]
    },
    {
      "cell_type": "code",
      "source": [],
      "metadata": {
        "id": "IzSlt_n0HMEl"
      },
      "execution_count": null,
      "outputs": []
    }
  ]
}