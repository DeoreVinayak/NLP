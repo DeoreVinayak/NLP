{
  "nbformat": 4,
  "nbformat_minor": 0,
  "metadata": {
    "colab": {
      "provenance": []
    },
    "kernelspec": {
      "name": "python3",
      "display_name": "Python 3"
    },
    "language_info": {
      "name": "python"
    }
  },
  "cells": [
    {
      "cell_type": "code",
      "execution_count": 1,
      "metadata": {
        "id": "yyyFzodaGyFB"
      },
      "outputs": [],
      "source": [
        "import nltk\n",
        "from nltk.tokenize import word_tokenize\n",
        "from nltk.corpus import wordnet\n",
        "from nltk.stem import WordNetLemmatizer\n",
        "from nltk.tag import pos_tag"
      ]
    },
    {
      "cell_type": "code",
      "source": [
        "nltk.download('punkt')\n",
        "nltk.download('averaged_perceptron_tagger')\n",
        "nltk.download('wordnet')"
      ],
      "metadata": {
        "colab": {
          "base_uri": "https://localhost:8080/"
        },
        "id": "CNBGVssLHuz1",
        "outputId": "759f7497-3307-413a-bd13-f8495525148a"
      },
      "execution_count": 2,
      "outputs": [
        {
          "output_type": "stream",
          "name": "stderr",
          "text": [
            "[nltk_data] Downloading package punkt to /root/nltk_data...\n",
            "[nltk_data]   Unzipping tokenizers/punkt.zip.\n",
            "[nltk_data] Downloading package averaged_perceptron_tagger to\n",
            "[nltk_data]     /root/nltk_data...\n",
            "[nltk_data]   Unzipping taggers/averaged_perceptron_tagger.zip.\n",
            "[nltk_data] Downloading package wordnet to /root/nltk_data...\n"
          ]
        },
        {
          "output_type": "execute_result",
          "data": {
            "text/plain": [
              "True"
            ]
          },
          "metadata": {},
          "execution_count": 2
        }
      ]
    },
    {
      "cell_type": "markdown",
      "source": [
        "**Function for Morphological Analysis**"
      ],
      "metadata": {
        "id": "1JsQlRfHHylC"
      }
    },
    {
      "cell_type": "code",
      "source": [
        "\n",
        "def morphological_analysis(text):\n",
        "    # Tokenize the text\n",
        "    tokens = word_tokenize(text)\n",
        "\n",
        "    # Part-of-speech tagging\n",
        "    pos_tags = pos_tag(tokens)\n",
        "\n",
        "    # Lemmatization\n",
        "    lemmatizer = WordNetLemmatizer()\n",
        "    lemmas = [(word, lemmatizer.lemmatize(word, pos=get_wordnet_pos(tag))) for word, tag in pos_tags]\n",
        "\n",
        "    return pos_tags, lemmas"
      ],
      "metadata": {
        "id": "zMUNEuXDH9Pj"
      },
      "execution_count": 3,
      "outputs": []
    },
    {
      "cell_type": "markdown",
      "source": [
        "\n",
        "**Function to map NLTK POS tags to WordNet POS tags**"
      ],
      "metadata": {
        "id": "z0xEDA6GIBiK"
      }
    },
    {
      "cell_type": "code",
      "source": [
        "def get_wordnet_pos(tag):\n",
        "    if tag.startswith('J'):\n",
        "        return wordnet.ADJ\n",
        "    elif tag.startswith('V'):\n",
        "        return wordnet.VERB\n",
        "    elif tag.startswith('N'):\n",
        "        return wordnet.NOUN\n",
        "    elif tag.startswith('R'):\n",
        "        return wordnet.ADV\n",
        "    else:\n",
        "        return wordnet.NOUN"
      ],
      "metadata": {
        "id": "tYushPRKH_1M"
      },
      "execution_count": 4,
      "outputs": []
    },
    {
      "cell_type": "markdown",
      "source": [
        "\n",
        "**Function for word generation (synonyms)**"
      ],
      "metadata": {
        "id": "ReAuiP51IGbc"
      }
    },
    {
      "cell_type": "code",
      "source": [
        "def generate_words(word):\n",
        "    synonyms = []\n",
        "\n",
        "    for syn in wordnet.synsets(word):\n",
        "        for lemma in syn.lemmas():\n",
        "            synonyms.append(lemma.name())\n",
        "\n",
        "    return set(synonyms)\n"
      ],
      "metadata": {
        "id": "3_XuoU4CIJO7"
      },
      "execution_count": 5,
      "outputs": []
    },
    {
      "cell_type": "markdown",
      "source": [
        "\n",
        "**Example text**"
      ],
      "metadata": {
        "id": "LFvQvQH0ISK7"
      }
    },
    {
      "cell_type": "code",
      "source": [
        "text = text = \"The quick brown fox is jumping over the lazy dog.\""
      ],
      "metadata": {
        "id": "bd4M7-SoILlM"
      },
      "execution_count": 10,
      "outputs": []
    },
    {
      "cell_type": "markdown",
      "source": [
        "\n",
        "**Perform morphological analysis**"
      ],
      "metadata": {
        "id": "NnbmHAI2I1J7"
      }
    },
    {
      "cell_type": "code",
      "source": [
        "pos_tags, lemmas = morphological_analysis(text)"
      ],
      "metadata": {
        "id": "c0g37p27I4_7"
      },
      "execution_count": 11,
      "outputs": []
    },
    {
      "cell_type": "markdown",
      "source": [
        "\n",
        "**Generate words**"
      ],
      "metadata": {
        "id": "FCcoJ0xEI68r"
      }
    },
    {
      "cell_type": "code",
      "source": [
        "word = \"quick\"\n",
        "synonyms = generate_words(word)"
      ],
      "metadata": {
        "id": "OTMxRpkzI9MD"
      },
      "execution_count": 12,
      "outputs": []
    },
    {
      "cell_type": "code",
      "source": [
        "\n",
        "print(\"Part-of-Speech Tags:\", pos_tags)\n",
        "print(\"Lemmas:\", lemmas)\n",
        "print(f\"Synonyms for '{word}':\", synonyms)"
      ],
      "metadata": {
        "colab": {
          "base_uri": "https://localhost:8080/"
        },
        "id": "hnrrt6F4I_Ob",
        "outputId": "21d322f7-1e31-42fc-ff35-400b4cbabe82"
      },
      "execution_count": 13,
      "outputs": [
        {
          "output_type": "stream",
          "name": "stdout",
          "text": [
            "Part-of-Speech Tags: [('The', 'DT'), ('quick', 'JJ'), ('brown', 'NN'), ('fox', 'NN'), ('is', 'VBZ'), ('jumping', 'VBG'), ('over', 'IN'), ('the', 'DT'), ('lazy', 'JJ'), ('dog', 'NN'), ('.', '.')]\n",
            "Lemmas: [('The', 'The'), ('quick', 'quick'), ('brown', 'brown'), ('fox', 'fox'), ('is', 'be'), ('jumping', 'jump'), ('over', 'over'), ('the', 'the'), ('lazy', 'lazy'), ('dog', 'dog'), ('.', '.')]\n",
            "Synonyms for 'quick': {'immediate', 'prompt', 'speedy', 'fast', 'straightaway', 'agile', 'ready', 'flying', 'nimble', 'warm', 'quickly', 'quick', 'promptly', 'spry'}\n"
          ]
        }
      ]
    },
    {
      "cell_type": "code",
      "source": [],
      "metadata": {
        "id": "LIwFJm9OJBGE"
      },
      "execution_count": null,
      "outputs": []
    }
  ]
}